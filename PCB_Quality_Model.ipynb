{
 "cells": [
  {
   "cell_type": "code",
   "execution_count": null,
   "id": "b1467f99",
   "metadata": {},
   "outputs": [],
   "source": [
    "# Load dataset\n",
    "import pandas as pd\n",
    "df = pd.read_csv(\"Corrected_PCB_Quality_Data.csv\")\n",
    "\n",
    "# Define target and features\n",
    "target = \"PCB_Status\"\n",
    "features = df.columns.drop([\"PCB_Status\", \"Defect Type\"])\n",
    "\n",
    "# Encode target (OK = 1, Faulty = 0)\n",
    "from sklearn.preprocessing import LabelEncoder, StandardScaler, OneHotEncoder\n",
    "label_encoder = LabelEncoder()\n",
    "df[target] = label_encoder.fit_transform(df[target])\n",
    "\n",
    "# Split features by type\n",
    "categorical_cols = df[features].select_dtypes(include=\"object\").columns.tolist()\n",
    "numerical_cols = df[features].select_dtypes(include=[\"int64\", \"float64\"]).columns.tolist()\n",
    "\n",
    "# Preprocessing pipeline\n",
    "from sklearn.pipeline import Pipeline\n",
    "from sklearn.compose import ColumnTransformer\n",
    "preprocessor = ColumnTransformer([\n",
    "    (\"num\", StandardScaler(), numerical_cols),\n",
    "    (\"cat\", OneHotEncoder(handle_unknown=\"ignore\"), categorical_cols)\n",
    "])\n"
   ]
  },
  {
   "cell_type": "code",
   "execution_count": null,
   "id": "8e0ae567",
   "metadata": {},
   "outputs": [
    {
     "name": "stdout",
     "output_type": "stream",
     "text": [
      "RandomForest Accuracy: 1.0000\n",
      "DecisionTree Accuracy: 1.0000\n",
      "LogisticRegression Accuracy: 1.0000\n",
      "XGBoost Accuracy: 1.0000\n",
      "\n",
      "✅ Best Model: RandomForest with Accuracy: 1.0000\n"
     ]
    },
    {
     "name": "stderr",
     "output_type": "stream",
     "text": [
      "c:\\Users\\sheet\\Downloads\\OneDrive\\Desktop\\PCB defect prediction\\pcb_env\\Lib\\site-packages\\xgboost\\training.py:183: UserWarning: [19:18:47] WARNING: C:\\actions-runner\\_work\\xgboost\\xgboost\\src\\learner.cc:738: \n",
      "Parameters: { \"use_label_encoder\" } are not used.\n",
      "\n",
      "  bst.update(dtrain, iteration=i, fobj=obj)\n"
     ]
    }
   ],
   "source": [
    "# Define models\n",
    "from sklearn.ensemble import RandomForestClassifier\n",
    "from sklearn.linear_model import LogisticRegression\n",
    "from sklearn.tree import DecisionTreeClassifier\n",
    "from xgboost import XGBClassifier\n",
    "models = {\n",
    "    \"RandomForest\": RandomForestClassifier(n_estimators=100, random_state=42),\n",
    "    \"DecisionTree\": DecisionTreeClassifier(random_state=42),\n",
    "    \"LogisticRegression\": LogisticRegression(max_iter=1000),\n",
    "    \"XGBoost\": XGBClassifier(use_label_encoder=False, eval_metric='logloss')\n",
    "}\n",
    "\n",
    "# Split data\n",
    "from sklearn.model_selection import train_test_split\n",
    "X = df[features]\n",
    "y = df[target]\n",
    "X_train, X_test, y_train, y_test = train_test_split(X, y, test_size=0.2, random_state=42)\n",
    "\n",
    "# Track best model\n",
    "best_model = None\n",
    "best_score = 0\n",
    "best_name = \"\"\n",
    "\n",
    "# Train and evaluate\n",
    "from sklearn.metrics import accuracy_score\n",
    "for name, model in models.items():\n",
    "    pipeline = Pipeline([\n",
    "        (\"preprocessor\", preprocessor),\n",
    "        (\"classifier\", model)\n",
    "    ])\n",
    "    pipeline.fit(X_train, y_train)\n",
    "    y_pred = pipeline.predict(X_test)\n",
    "    acc = accuracy_score(y_test, y_pred)\n",
    "    print(f\"{name} Accuracy: {acc:.4f}\")\n",
    "    \n",
    "    if acc > best_score:\n",
    "        best_model = pipeline\n",
    "        best_score = acc\n",
    "        best_name = name\n",
    "\n",
    "# Save best model\n",
    "joblib.dump(best_model, \"best_pcb_model.joblib\")\n",
    "print(f\"\\n✅ Best Model: {best_name} with Accuracy: {best_score:.4f}\")\n"
   ]
  },
  {
   "cell_type": "code",
   "execution_count": null,
   "id": "07e84041",
   "metadata": {},
   "outputs": [
    {
     "name": "stdout",
     "output_type": "stream",
     "text": [
      "Model Prediction: OK\n",
      "Final Corrected Prediction: OK\n"
     ]
    }
   ],
   "source": [
    "# Load saved model\n",
    "import joblib\n",
    "model = joblib.load(\"best_pcb_model.joblib\")\n",
    "\n",
    "# Sample input\n",
    "sample_input = pd.DataFrame({\n",
    "    'HCl (%)': [3.5],\n",
    "    'H2SO4 (%)': [3.0],\n",
    "    'CuSO4 (%)': [1.2],\n",
    "    'pH Value': [5.0],\n",
    "    'Temperature (°C)': [45.0],\n",
    "    'Etching Time (s)': [110],\n",
    "    'Capacitance (pF)': [30.0],\n",
    "    'Insulation Resistance (MΩ)': [60.0],\n",
    "    'Impedance Match (Ω)': [50.0],\n",
    "    'Dielectric Breakdown (kV)': [3.5],\n",
    "    'Board Thickness (mm)': [1.3],\n",
    "    'Board Width (mm)': [150],\n",
    "    'Board Length (mm)': [200],\n",
    "    'Hole Diameter Deviation (mm)': [0.05],\n",
    "    'Pad-to-Hole Alignment (mm)': [0.04],\n",
    "    'Silkscreen Clarity': ['Clear'],            # ❌ Logic should mark as Faulty\n",
    "    'Solderability Test': ['Pass'],\n",
    "    'Dimension Accuracy': ['Accurate'],\n",
    "    'Frequency Test Result': ['Pass'],\n",
    "    'Defect Type': ['None']                     # Still says OK, but logic overrides\n",
    "})\n",
    "\n",
    "# Prepare input\n",
    "model_input = sample_input.drop(columns=[\"Defect Type\"])\n",
    "model_prediction = model.predict(model_input)[0]  # 1 = OK, 0 = Faulty\n",
    "\n",
    "# Apply override logic\n",
    "def override_faulty(row):\n",
    "    return (\n",
    "        row['Silkscreen Clarity'] == 'Blurred' or\n",
    "        row['Solderability Test'] == 'Fail' or\n",
    "        row['Dimension Accuracy'] == 'Inaccurate' or\n",
    "        row['Frequency Test Result'] == 'Fail' or\n",
    "        row['Defect Type'] != 'None'\n",
    "    )\n",
    "\n",
    "if override_faulty(sample_input.iloc[0]):\n",
    "    final_prediction = 0\n",
    "else:\n",
    "    final_prediction = model_prediction\n",
    "\n",
    "# Show results\n",
    "predicted_label = \"OK\" if final_prediction == 1 else \"Faulty\"\n",
    "print(\"Model Prediction:\", \"OK\" if model_prediction == 1 else \"Faulty\")\n",
    "print(\"Final Corrected Prediction:\", predicted_label)\n"
   ]
  }
 ],
 "metadata": {
  "kernelspec": {
   "display_name": "pcb_env",
   "language": "python",
   "name": "python3"
  },
  "language_info": {
   "codemirror_mode": {
    "name": "ipython",
    "version": 3
   },
   "file_extension": ".py",
   "mimetype": "text/x-python",
   "name": "python",
   "nbconvert_exporter": "python",
   "pygments_lexer": "ipython3",
   "version": "3.13.2"
  }
 },
 "nbformat": 4,
 "nbformat_minor": 5
}
